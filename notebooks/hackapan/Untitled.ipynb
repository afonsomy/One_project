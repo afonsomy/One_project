{
 "cells": [
  {
   "cell_type": "code",
   "execution_count": 7,
   "metadata": {},
   "outputs": [
    {
     "ename": "ModuleNotFoundError",
     "evalue": "No module named 'numpy'",
     "output_type": "error",
     "traceback": [
      "\u001b[0;31m---------------------------------------------------------------------------\u001b[0m",
      "\u001b[0;31mModuleNotFoundError\u001b[0m                       Traceback (most recent call last)",
      "\u001b[0;32m<ipython-input-7-cc543ae25329>\u001b[0m in \u001b[0;36m<module>\u001b[0;34m\u001b[0m\n\u001b[0;32m----> 1\u001b[0;31m \u001b[0;32mimport\u001b[0m \u001b[0mnumpy\u001b[0m \u001b[0;32mas\u001b[0m \u001b[0mnp\u001b[0m\u001b[0;34m\u001b[0m\u001b[0;34m\u001b[0m\u001b[0m\n\u001b[0m\u001b[1;32m      2\u001b[0m \u001b[0;32mimport\u001b[0m \u001b[0mpandas\u001b[0m \u001b[0;32mas\u001b[0m \u001b[0mpd\u001b[0m\u001b[0;34m\u001b[0m\u001b[0;34m\u001b[0m\u001b[0m\n\u001b[1;32m      3\u001b[0m \u001b[0;32mimport\u001b[0m \u001b[0mseaborn\u001b[0m \u001b[0;32mas\u001b[0m \u001b[0msns\u001b[0m\u001b[0;34m\u001b[0m\u001b[0;34m\u001b[0m\u001b[0m\n",
      "\u001b[0;31mModuleNotFoundError\u001b[0m: No module named 'numpy'"
     ]
    }
   ],
   "source": [
    "import numpy as np\n",
    "import pandas as pd\n",
    "import seaborn as sns"
   ]
  },
  {
   "cell_type": "code",
   "execution_count": 8,
   "metadata": {},
   "outputs": [
    {
     "ename": "NameError",
     "evalue": "name 'pd' is not defined",
     "output_type": "error",
     "traceback": [
      "\u001b[0;31m---------------------------------------------------------------------------\u001b[0m",
      "\u001b[0;31mNameError\u001b[0m                                 Traceback (most recent call last)",
      "\u001b[0;32m<ipython-input-8-ed856bbb5daf>\u001b[0m in \u001b[0;36m<module>\u001b[0;34m\u001b[0m\n\u001b[1;32m      1\u001b[0m \u001b[0;31m# Importando dados\u001b[0m\u001b[0;34m\u001b[0m\u001b[0;34m\u001b[0m\u001b[0;34m\u001b[0m\u001b[0m\n\u001b[0;32m----> 2\u001b[0;31m \u001b[0mbdatrasos\u001b[0m\u001b[0;34m=\u001b[0m\u001b[0mpd\u001b[0m\u001b[0;34m.\u001b[0m\u001b[0mread_csv\u001b[0m\u001b[0;34m(\u001b[0m\u001b[0;34m'\\home\\afonso\\Documents\\Bases\\hackapan\\Base-Hackapan\\BASE_ATRASOS_HACKAPAN.txt'\u001b[0m\u001b[0;34m,\u001b[0m\u001b[0msep\u001b[0m\u001b[0;34m=\u001b[0m\u001b[0;34m\";\"\u001b[0m\u001b[0;34m)\u001b[0m\u001b[0;34m\u001b[0m\u001b[0;34m\u001b[0m\u001b[0m\n\u001b[0m\u001b[1;32m      3\u001b[0m \u001b[0mbdtrans\u001b[0m\u001b[0;34m=\u001b[0m\u001b[0mpd\u001b[0m\u001b[0;34m.\u001b[0m\u001b[0mread_csv\u001b[0m\u001b[0;34m(\u001b[0m\u001b[0;34m'/home/afonso/Documents/Bases/hackapan/Base-Hackapan/BASE_TRANSACOES_HACKAPAN.txt'\u001b[0m\u001b[0;34m,\u001b[0m\u001b[0msep\u001b[0m\u001b[0;34m=\u001b[0m\u001b[0;34m\";\"\u001b[0m\u001b[0;34m)\u001b[0m\u001b[0;34m\u001b[0m\u001b[0;34m\u001b[0m\u001b[0m\n\u001b[1;32m      4\u001b[0m \u001b[0mbdcartoes\u001b[0m\u001b[0;34m=\u001b[0m\u001b[0mpd\u001b[0m\u001b[0;34m.\u001b[0m\u001b[0mread_csv\u001b[0m\u001b[0;34m(\u001b[0m\u001b[0;34m'/home/afonso/Documents/Bases/hackapan/Base-Hackapan/BASE_CARTOES_HACKAPAN.txt'\u001b[0m\u001b[0;34m,\u001b[0m\u001b[0msep\u001b[0m\u001b[0;34m=\u001b[0m\u001b[0;34m\";\"\u001b[0m\u001b[0;34m)\u001b[0m\u001b[0;34m\u001b[0m\u001b[0;34m\u001b[0m\u001b[0m\n",
      "\u001b[0;31mNameError\u001b[0m: name 'pd' is not defined"
     ]
    }
   ],
   "source": [
    "# Importando dados\n",
    "bdatrasos=pd.read_csv('\\home\\afonso\\Documents\\Bases\\hackapan\\Base-Hackapan\\BASE_ATRASOS_HACKAPAN.txt',sep=\";\")\n",
    "bdtrans=pd.read_csv('/home/afonso/Documents/Bases/hackapan/Base-Hackapan/BASE_TRANSACOES_HACKAPAN.txt',sep=\";\")\n",
    "bdcartoes=pd.read_csv('/home/afonso/Documents/Bases/hackapan/Base-Hackapan/BASE_CARTOES_HACKAPAN.txt',sep=\";\")\n"
   ]
  },
  {
   "cell_type": "code",
   "execution_count": 13,
   "metadata": {},
   "outputs": [
    {
     "data": {
      "text/html": [
       "<div>\n",
       "<style scoped>\n",
       "    .dataframe tbody tr th:only-of-type {\n",
       "        vertical-align: middle;\n",
       "    }\n",
       "\n",
       "    .dataframe tbody tr th {\n",
       "        vertical-align: top;\n",
       "    }\n",
       "\n",
       "    .dataframe thead th {\n",
       "        text-align: right;\n",
       "    }\n",
       "</style>\n",
       "<table border=\"1\" class=\"dataframe\">\n",
       "  <thead>\n",
       "    <tr style=\"text-align: right;\">\n",
       "      <th></th>\n",
       "      <th>ID</th>\n",
       "      <th>REFERENCIA</th>\n",
       "      <th>QT_DIAS_ATRASO</th>\n",
       "    </tr>\n",
       "  </thead>\n",
       "  <tbody>\n",
       "    <tr>\n",
       "      <th>0</th>\n",
       "      <td>B4DABB73</td>\n",
       "      <td>2018-06-30</td>\n",
       "      <td>0</td>\n",
       "    </tr>\n",
       "    <tr>\n",
       "      <th>1</th>\n",
       "      <td>55AC2B52</td>\n",
       "      <td>2018-12-31</td>\n",
       "      <td>0</td>\n",
       "    </tr>\n",
       "    <tr>\n",
       "      <th>2</th>\n",
       "      <td>AF92CC5F</td>\n",
       "      <td>2018-11-30</td>\n",
       "      <td>128</td>\n",
       "    </tr>\n",
       "  </tbody>\n",
       "</table>\n",
       "</div>"
      ],
      "text/plain": [
       "         ID  REFERENCIA  QT_DIAS_ATRASO\n",
       "0  B4DABB73  2018-06-30               0\n",
       "1  55AC2B52  2018-12-31               0\n",
       "2  AF92CC5F  2018-11-30             128"
      ]
     },
     "execution_count": 13,
     "metadata": {},
     "output_type": "execute_result"
    }
   ],
   "source": [
    "bdatrasos.head(3)\n"
   ]
  },
  {
   "cell_type": "code",
   "execution_count": 4,
   "metadata": {},
   "outputs": [
    {
     "data": {
      "text/html": [
       "<div>\n",
       "<style scoped>\n",
       "    .dataframe tbody tr th:only-of-type {\n",
       "        vertical-align: middle;\n",
       "    }\n",
       "\n",
       "    .dataframe tbody tr th {\n",
       "        vertical-align: top;\n",
       "    }\n",
       "\n",
       "    .dataframe thead th {\n",
       "        text-align: right;\n",
       "    }\n",
       "</style>\n",
       "<table border=\"1\" class=\"dataframe\">\n",
       "  <thead>\n",
       "    <tr style=\"text-align: right;\">\n",
       "      <th></th>\n",
       "      <th>ID</th>\n",
       "      <th>DATA_HORA</th>\n",
       "      <th>LIMITE_DISPONIVEL_APOS_TRANSACAO</th>\n",
       "      <th>VALOR_TRANSACAO</th>\n",
       "      <th>APROVADO_NEGADO</th>\n",
       "      <th>COMPRA_PRESENCIAL</th>\n",
       "      <th>NUMERO_PARCELAS</th>\n",
       "      <th>PAIS</th>\n",
       "      <th>BANDEIRA</th>\n",
       "      <th>VARIANTE_CARTAO</th>\n",
       "      <th>CODIGO_LOJISTA_MCC</th>\n",
       "      <th>RAMO_LOJISTA</th>\n",
       "      <th>LOJA</th>\n",
       "    </tr>\n",
       "  </thead>\n",
       "  <tbody>\n",
       "    <tr>\n",
       "      <th>0</th>\n",
       "      <td>5BDA5905</td>\n",
       "      <td>2018-02-22 17:30:26</td>\n",
       "      <td>1938</td>\n",
       "      <td>187,6</td>\n",
       "      <td>APR</td>\n",
       "      <td>N PRES</td>\n",
       "      <td>NaN</td>\n",
       "      <td>BRA</td>\n",
       "      <td>M</td>\n",
       "      <td>INT</td>\n",
       "      <td>5965</td>\n",
       "      <td>M.O.T.O.</td>\n",
       "      <td>MERCPAGO*NULL</td>\n",
       "    </tr>\n",
       "    <tr>\n",
       "      <th>1</th>\n",
       "      <td>5BDA5905</td>\n",
       "      <td>2018-02-22 15:25:29</td>\n",
       "      <td>2125</td>\n",
       "      <td>40</td>\n",
       "      <td>APR</td>\n",
       "      <td>N PRES</td>\n",
       "      <td>NaN</td>\n",
       "      <td>BRA</td>\n",
       "      <td>M</td>\n",
       "      <td>INT</td>\n",
       "      <td>7338</td>\n",
       "      <td>SERVIÇO</td>\n",
       "      <td>PG *LOJADOCONVITE</td>\n",
       "    </tr>\n",
       "    <tr>\n",
       "      <th>2</th>\n",
       "      <td>5BDA5905</td>\n",
       "      <td>2018-02-22 13:11:44</td>\n",
       "      <td>2165</td>\n",
       "      <td>58,8</td>\n",
       "      <td>APR</td>\n",
       "      <td>PRES</td>\n",
       "      <td>NaN</td>\n",
       "      <td>BRA</td>\n",
       "      <td>M</td>\n",
       "      <td>INT</td>\n",
       "      <td>5651</td>\n",
       "      <td>VESTUARIO</td>\n",
       "      <td>CRISTIANE MORENO SILVA</td>\n",
       "    </tr>\n",
       "  </tbody>\n",
       "</table>\n",
       "</div>"
      ],
      "text/plain": [
       "         ID            DATA_HORA  LIMITE_DISPONIVEL_APOS_TRANSACAO  \\\n",
       "0  5BDA5905  2018-02-22 17:30:26                              1938   \n",
       "1  5BDA5905  2018-02-22 15:25:29                              2125   \n",
       "2  5BDA5905  2018-02-22 13:11:44                              2165   \n",
       "\n",
       "  VALOR_TRANSACAO APROVADO_NEGADO COMPRA_PRESENCIAL  NUMERO_PARCELAS PAIS  \\\n",
       "0           187,6             APR            N PRES              NaN  BRA   \n",
       "1              40             APR            N PRES              NaN  BRA   \n",
       "2            58,8             APR              PRES              NaN  BRA   \n",
       "\n",
       "  BANDEIRA VARIANTE_CARTAO  CODIGO_LOJISTA_MCC RAMO_LOJISTA  \\\n",
       "0        M             INT                5965     M.O.T.O.   \n",
       "1        M             INT                7338      SERVIÇO   \n",
       "2        M             INT                5651    VESTUARIO   \n",
       "\n",
       "                     LOJA  \n",
       "0           MERCPAGO*NULL  \n",
       "1       PG *LOJADOCONVITE  \n",
       "2  CRISTIANE MORENO SILVA  "
      ]
     },
     "execution_count": 4,
     "metadata": {},
     "output_type": "execute_result"
    }
   ],
   "source": [
    "bdtrans.head(3)"
   ]
  },
  {
   "cell_type": "code",
   "execution_count": 5,
   "metadata": {},
   "outputs": [
    {
     "data": {
      "text/html": [
       "<div>\n",
       "<style scoped>\n",
       "    .dataframe tbody tr th:only-of-type {\n",
       "        vertical-align: middle;\n",
       "    }\n",
       "\n",
       "    .dataframe tbody tr th {\n",
       "        vertical-align: top;\n",
       "    }\n",
       "\n",
       "    .dataframe thead th {\n",
       "        text-align: right;\n",
       "    }\n",
       "</style>\n",
       "<table border=\"1\" class=\"dataframe\">\n",
       "  <thead>\n",
       "    <tr style=\"text-align: right;\">\n",
       "      <th></th>\n",
       "      <th>ID</th>\n",
       "      <th>FRAUDE</th>\n",
       "      <th>DT_CONTRATACAO</th>\n",
       "      <th>DATA_ATIVACAO</th>\n",
       "      <th>LIMITE_CREDITO_CARTAO</th>\n",
       "      <th>ORIGEM_VENDA_CONTRATO</th>\n",
       "      <th>DATA_NASCIMENTO_CLIENTE</th>\n",
       "      <th>GENERO</th>\n",
       "      <th>ESTADO_CIVIL</th>\n",
       "      <th>NATURALIDADE</th>\n",
       "      <th>...</th>\n",
       "      <th>CIDADE3_BUREAU1</th>\n",
       "      <th>CIDADE4_BUREAU1</th>\n",
       "      <th>CIDADE5_BUREAU1</th>\n",
       "      <th>RENDA_INFORMADA</th>\n",
       "      <th>RENDA_BUREAU1</th>\n",
       "      <th>RENDA_BUREAU2</th>\n",
       "      <th>SCORE_CREDITO_BUREAU1</th>\n",
       "      <th>SCORE_CREDITO_BUREAU2</th>\n",
       "      <th>SCORE_FRAUDE</th>\n",
       "      <th>FLAG_DESENVOLVIMENTO</th>\n",
       "    </tr>\n",
       "  </thead>\n",
       "  <tbody>\n",
       "    <tr>\n",
       "      <th>0</th>\n",
       "      <td>E6524F55</td>\n",
       "      <td>0</td>\n",
       "      <td>2018-06-28 00:00:00</td>\n",
       "      <td>2018-07-12</td>\n",
       "      <td>1050</td>\n",
       "      <td>INBOUND</td>\n",
       "      <td>1971-07-07</td>\n",
       "      <td>MASCULINO</td>\n",
       "      <td>NaN</td>\n",
       "      <td>NaN</td>\n",
       "      <td>...</td>\n",
       "      <td>LINHARES</td>\n",
       "      <td>LINHARES</td>\n",
       "      <td>LINHARES</td>\n",
       "      <td>4200,00</td>\n",
       "      <td>1000</td>\n",
       "      <td>3550.0</td>\n",
       "      <td>470.0</td>\n",
       "      <td>629.0</td>\n",
       "      <td>919.0</td>\n",
       "      <td>0</td>\n",
       "    </tr>\n",
       "    <tr>\n",
       "      <th>1</th>\n",
       "      <td>6E8857A2</td>\n",
       "      <td>0</td>\n",
       "      <td>2018-06-05 00:00:00</td>\n",
       "      <td>2018-07-23</td>\n",
       "      <td>2700</td>\n",
       "      <td>OUTBOUND</td>\n",
       "      <td>1962-03-30</td>\n",
       "      <td>MASCULINO</td>\n",
       "      <td>CASADO</td>\n",
       "      <td>BR</td>\n",
       "      <td>...</td>\n",
       "      <td>DUQUE DE CAXIAS</td>\n",
       "      <td>DUQUE DE CAXIAS</td>\n",
       "      <td>NaN</td>\n",
       "      <td>3000,00</td>\n",
       "      <td>998</td>\n",
       "      <td>1800.0</td>\n",
       "      <td>815.0</td>\n",
       "      <td>893.0</td>\n",
       "      <td>703.0</td>\n",
       "      <td>1</td>\n",
       "    </tr>\n",
       "    <tr>\n",
       "      <th>2</th>\n",
       "      <td>64A9E7CB</td>\n",
       "      <td>0</td>\n",
       "      <td>2018-06-13 00:00:00</td>\n",
       "      <td>2019-03-27</td>\n",
       "      <td>400</td>\n",
       "      <td>OUTBOUND</td>\n",
       "      <td>1992-01-13</td>\n",
       "      <td>FEMININO</td>\n",
       "      <td>CASADO</td>\n",
       "      <td>BRASIELIRA</td>\n",
       "      <td>...</td>\n",
       "      <td>PARDINHO</td>\n",
       "      <td>IGARACU DO TIETE</td>\n",
       "      <td>IGARACU DO TIETE</td>\n",
       "      <td>1500,00</td>\n",
       "      <td>886</td>\n",
       "      <td>1350.0</td>\n",
       "      <td>509.0</td>\n",
       "      <td>349.0</td>\n",
       "      <td>685.0</td>\n",
       "      <td>0</td>\n",
       "    </tr>\n",
       "  </tbody>\n",
       "</table>\n",
       "<p>3 rows × 56 columns</p>\n",
       "</div>"
      ],
      "text/plain": [
       "         ID  FRAUDE       DT_CONTRATACAO DATA_ATIVACAO  LIMITE_CREDITO_CARTAO  \\\n",
       "0  E6524F55       0  2018-06-28 00:00:00    2018-07-12                   1050   \n",
       "1  6E8857A2       0  2018-06-05 00:00:00    2018-07-23                   2700   \n",
       "2  64A9E7CB       0  2018-06-13 00:00:00    2019-03-27                    400   \n",
       "\n",
       "  ORIGEM_VENDA_CONTRATO DATA_NASCIMENTO_CLIENTE     GENERO ESTADO_CIVIL  \\\n",
       "0               INBOUND              1971-07-07  MASCULINO          NaN   \n",
       "1              OUTBOUND              1962-03-30  MASCULINO       CASADO   \n",
       "2              OUTBOUND              1992-01-13   FEMININO       CASADO   \n",
       "\n",
       "  NATURALIDADE  ...  CIDADE3_BUREAU1   CIDADE4_BUREAU1   CIDADE5_BUREAU1  \\\n",
       "0          NaN  ...         LINHARES          LINHARES          LINHARES   \n",
       "1           BR  ...  DUQUE DE CAXIAS   DUQUE DE CAXIAS               NaN   \n",
       "2   BRASIELIRA  ...         PARDINHO  IGARACU DO TIETE  IGARACU DO TIETE   \n",
       "\n",
       "   RENDA_INFORMADA RENDA_BUREAU1 RENDA_BUREAU2 SCORE_CREDITO_BUREAU1  \\\n",
       "0          4200,00          1000        3550.0                 470.0   \n",
       "1          3000,00           998        1800.0                 815.0   \n",
       "2          1500,00           886        1350.0                 509.0   \n",
       "\n",
       "   SCORE_CREDITO_BUREAU2  SCORE_FRAUDE  FLAG_DESENVOLVIMENTO  \n",
       "0                  629.0         919.0                     0  \n",
       "1                  893.0         703.0                     1  \n",
       "2                  349.0         685.0                     0  \n",
       "\n",
       "[3 rows x 56 columns]"
      ]
     },
     "execution_count": 5,
     "metadata": {},
     "output_type": "execute_result"
    }
   ],
   "source": [
    "bdcartoes.head(3)"
   ]
  },
  {
   "cell_type": "code",
   "execution_count": 7,
   "metadata": {},
   "outputs": [
    {
     "data": {
      "text/html": [
       "<div>\n",
       "<style scoped>\n",
       "    .dataframe tbody tr th:only-of-type {\n",
       "        vertical-align: middle;\n",
       "    }\n",
       "\n",
       "    .dataframe tbody tr th {\n",
       "        vertical-align: top;\n",
       "    }\n",
       "\n",
       "    .dataframe thead th {\n",
       "        text-align: right;\n",
       "    }\n",
       "</style>\n",
       "<table border=\"1\" class=\"dataframe\">\n",
       "  <thead>\n",
       "    <tr style=\"text-align: right;\">\n",
       "      <th></th>\n",
       "      <th>FRAUDE</th>\n",
       "      <th>LIMITE_CREDITO_CARTAO</th>\n",
       "      <th>FLAG_CARTAO_ADICIONAL</th>\n",
       "      <th>FLAG_EMAIL_INFORMADO</th>\n",
       "      <th>COD_PROFISSAO_BUREAU1</th>\n",
       "      <th>CEP_RESIDENCIAL_INFORMADO</th>\n",
       "      <th>CEP_COMERCIAL_INFORMADO</th>\n",
       "      <th>CEP1_BUREAU1</th>\n",
       "      <th>CEP2_BUREAU1</th>\n",
       "      <th>CEP3_BUREAU1</th>\n",
       "      <th>...</th>\n",
       "      <th>DDD1_BUREAU1</th>\n",
       "      <th>DDD2_BUREAU1</th>\n",
       "      <th>DDD3_BUREAU1</th>\n",
       "      <th>DDD4_BUREAU1</th>\n",
       "      <th>DDD5_BUREAU1</th>\n",
       "      <th>RENDA_BUREAU2</th>\n",
       "      <th>SCORE_CREDITO_BUREAU1</th>\n",
       "      <th>SCORE_CREDITO_BUREAU2</th>\n",
       "      <th>SCORE_FRAUDE</th>\n",
       "      <th>FLAG_DESENVOLVIMENTO</th>\n",
       "    </tr>\n",
       "  </thead>\n",
       "  <tbody>\n",
       "    <tr>\n",
       "      <th>count</th>\n",
       "      <td>86558.000000</td>\n",
       "      <td>86558.000000</td>\n",
       "      <td>86558.000000</td>\n",
       "      <td>86558.000000</td>\n",
       "      <td>67006.000000</td>\n",
       "      <td>8.655800e+04</td>\n",
       "      <td>6.151600e+04</td>\n",
       "      <td>7.901100e+04</td>\n",
       "      <td>6.952000e+03</td>\n",
       "      <td>6.202000e+03</td>\n",
       "      <td>...</td>\n",
       "      <td>86187.000000</td>\n",
       "      <td>85588.000000</td>\n",
       "      <td>81899.000000</td>\n",
       "      <td>74403.000000</td>\n",
       "      <td>64012.000000</td>\n",
       "      <td>8.636000e+04</td>\n",
       "      <td>86405.000000</td>\n",
       "      <td>58027.000000</td>\n",
       "      <td>80417.000000</td>\n",
       "      <td>86558.000000</td>\n",
       "    </tr>\n",
       "    <tr>\n",
       "      <th>mean</th>\n",
       "      <td>0.006470</td>\n",
       "      <td>1208.086301</td>\n",
       "      <td>0.091234</td>\n",
       "      <td>0.774082</td>\n",
       "      <td>491342.428812</td>\n",
       "      <td>3.583514e+07</td>\n",
       "      <td>3.674113e+07</td>\n",
       "      <td>3.471006e+07</td>\n",
       "      <td>3.279178e+07</td>\n",
       "      <td>3.258239e+07</td>\n",
       "      <td>...</td>\n",
       "      <td>28.597863</td>\n",
       "      <td>17.305907</td>\n",
       "      <td>13.096363</td>\n",
       "      <td>11.169496</td>\n",
       "      <td>10.372133</td>\n",
       "      <td>2.513594e+03</td>\n",
       "      <td>595.224698</td>\n",
       "      <td>626.650904</td>\n",
       "      <td>698.893816</td>\n",
       "      <td>0.700005</td>\n",
       "    </tr>\n",
       "    <tr>\n",
       "      <th>std</th>\n",
       "      <td>0.080174</td>\n",
       "      <td>1145.945813</td>\n",
       "      <td>0.287943</td>\n",
       "      <td>0.418188</td>\n",
       "      <td>203770.390323</td>\n",
       "      <td>2.897448e+07</td>\n",
       "      <td>2.896931e+07</td>\n",
       "      <td>2.887665e+07</td>\n",
       "      <td>2.831947e+07</td>\n",
       "      <td>2.809654e+07</td>\n",
       "      <td>...</td>\n",
       "      <td>26.759002</td>\n",
       "      <td>24.319511</td>\n",
       "      <td>22.155049</td>\n",
       "      <td>20.978489</td>\n",
       "      <td>20.424621</td>\n",
       "      <td>1.109697e+04</td>\n",
       "      <td>164.614927</td>\n",
       "      <td>144.007392</td>\n",
       "      <td>160.961929</td>\n",
       "      <td>0.458258</td>\n",
       "    </tr>\n",
       "    <tr>\n",
       "      <th>min</th>\n",
       "      <td>0.000000</td>\n",
       "      <td>0.000000</td>\n",
       "      <td>0.000000</td>\n",
       "      <td>0.000000</td>\n",
       "      <td>10.000000</td>\n",
       "      <td>6.620300e+05</td>\n",
       "      <td>1.001000e+06</td>\n",
       "      <td>0.000000e+00</td>\n",
       "      <td>1.000000e+00</td>\n",
       "      <td>1.000000e+00</td>\n",
       "      <td>...</td>\n",
       "      <td>0.000000</td>\n",
       "      <td>0.000000</td>\n",
       "      <td>0.000000</td>\n",
       "      <td>0.000000</td>\n",
       "      <td>0.000000</td>\n",
       "      <td>0.000000e+00</td>\n",
       "      <td>0.000000</td>\n",
       "      <td>0.000000</td>\n",
       "      <td>0.000000</td>\n",
       "      <td>0.000000</td>\n",
       "    </tr>\n",
       "    <tr>\n",
       "      <th>25%</th>\n",
       "      <td>0.000000</td>\n",
       "      <td>475.000000</td>\n",
       "      <td>0.000000</td>\n",
       "      <td>1.000000</td>\n",
       "      <td>391205.000000</td>\n",
       "      <td>1.136679e+07</td>\n",
       "      <td>1.221217e+07</td>\n",
       "      <td>9.811465e+06</td>\n",
       "      <td>9.185178e+06</td>\n",
       "      <td>9.181168e+06</td>\n",
       "      <td>...</td>\n",
       "      <td>11.000000</td>\n",
       "      <td>0.000000</td>\n",
       "      <td>0.000000</td>\n",
       "      <td>0.000000</td>\n",
       "      <td>0.000000</td>\n",
       "      <td>1.350000e+03</td>\n",
       "      <td>462.000000</td>\n",
       "      <td>520.000000</td>\n",
       "      <td>580.000000</td>\n",
       "      <td>0.000000</td>\n",
       "    </tr>\n",
       "    <tr>\n",
       "      <th>50%</th>\n",
       "      <td>0.000000</td>\n",
       "      <td>750.000000</td>\n",
       "      <td>0.000000</td>\n",
       "      <td>1.000000</td>\n",
       "      <td>511215.000000</td>\n",
       "      <td>2.580460e+07</td>\n",
       "      <td>2.690000e+07</td>\n",
       "      <td>2.444540e+07</td>\n",
       "      <td>2.264151e+07</td>\n",
       "      <td>2.272555e+07</td>\n",
       "      <td>...</td>\n",
       "      <td>18.000000</td>\n",
       "      <td>11.000000</td>\n",
       "      <td>0.000000</td>\n",
       "      <td>0.000000</td>\n",
       "      <td>0.000000</td>\n",
       "      <td>1.650000e+03</td>\n",
       "      <td>565.000000</td>\n",
       "      <td>623.000000</td>\n",
       "      <td>722.000000</td>\n",
       "      <td>1.000000</td>\n",
       "    </tr>\n",
       "    <tr>\n",
       "      <th>75%</th>\n",
       "      <td>0.000000</td>\n",
       "      <td>1500.000000</td>\n",
       "      <td>0.000000</td>\n",
       "      <td>1.000000</td>\n",
       "      <td>622505.000000</td>\n",
       "      <td>6.074383e+07</td>\n",
       "      <td>6.220000e+07</td>\n",
       "      <td>6.018055e+07</td>\n",
       "      <td>5.708418e+07</td>\n",
       "      <td>5.653373e+07</td>\n",
       "      <td>...</td>\n",
       "      <td>43.000000</td>\n",
       "      <td>21.000000</td>\n",
       "      <td>16.000000</td>\n",
       "      <td>11.000000</td>\n",
       "      <td>11.000000</td>\n",
       "      <td>2.300000e+03</td>\n",
       "      <td>717.000000</td>\n",
       "      <td>730.000000</td>\n",
       "      <td>829.000000</td>\n",
       "      <td>1.000000</td>\n",
       "    </tr>\n",
       "    <tr>\n",
       "      <th>max</th>\n",
       "      <td>1.000000</td>\n",
       "      <td>22000.000000</td>\n",
       "      <td>1.000000</td>\n",
       "      <td>1.000000</td>\n",
       "      <td>992225.000000</td>\n",
       "      <td>9.989000e+07</td>\n",
       "      <td>9.989000e+07</td>\n",
       "      <td>9.990000e+07</td>\n",
       "      <td>9.970041e+07</td>\n",
       "      <td>9.970041e+07</td>\n",
       "      <td>...</td>\n",
       "      <td>99.000000</td>\n",
       "      <td>99.000000</td>\n",
       "      <td>99.000000</td>\n",
       "      <td>99.000000</td>\n",
       "      <td>99.000000</td>\n",
       "      <td>1.500000e+06</td>\n",
       "      <td>1002.000000</td>\n",
       "      <td>999.000000</td>\n",
       "      <td>971.000000</td>\n",
       "      <td>1.000000</td>\n",
       "    </tr>\n",
       "  </tbody>\n",
       "</table>\n",
       "<p>8 rows × 27 columns</p>\n",
       "</div>"
      ],
      "text/plain": [
       "             FRAUDE  LIMITE_CREDITO_CARTAO  FLAG_CARTAO_ADICIONAL  \\\n",
       "count  86558.000000           86558.000000           86558.000000   \n",
       "mean       0.006470            1208.086301               0.091234   \n",
       "std        0.080174            1145.945813               0.287943   \n",
       "min        0.000000               0.000000               0.000000   \n",
       "25%        0.000000             475.000000               0.000000   \n",
       "50%        0.000000             750.000000               0.000000   \n",
       "75%        0.000000            1500.000000               0.000000   \n",
       "max        1.000000           22000.000000               1.000000   \n",
       "\n",
       "       FLAG_EMAIL_INFORMADO  COD_PROFISSAO_BUREAU1  CEP_RESIDENCIAL_INFORMADO  \\\n",
       "count          86558.000000           67006.000000               8.655800e+04   \n",
       "mean               0.774082          491342.428812               3.583514e+07   \n",
       "std                0.418188          203770.390323               2.897448e+07   \n",
       "min                0.000000              10.000000               6.620300e+05   \n",
       "25%                1.000000          391205.000000               1.136679e+07   \n",
       "50%                1.000000          511215.000000               2.580460e+07   \n",
       "75%                1.000000          622505.000000               6.074383e+07   \n",
       "max                1.000000          992225.000000               9.989000e+07   \n",
       "\n",
       "       CEP_COMERCIAL_INFORMADO  CEP1_BUREAU1  CEP2_BUREAU1  CEP3_BUREAU1  ...  \\\n",
       "count             6.151600e+04  7.901100e+04  6.952000e+03  6.202000e+03  ...   \n",
       "mean              3.674113e+07  3.471006e+07  3.279178e+07  3.258239e+07  ...   \n",
       "std               2.896931e+07  2.887665e+07  2.831947e+07  2.809654e+07  ...   \n",
       "min               1.001000e+06  0.000000e+00  1.000000e+00  1.000000e+00  ...   \n",
       "25%               1.221217e+07  9.811465e+06  9.185178e+06  9.181168e+06  ...   \n",
       "50%               2.690000e+07  2.444540e+07  2.264151e+07  2.272555e+07  ...   \n",
       "75%               6.220000e+07  6.018055e+07  5.708418e+07  5.653373e+07  ...   \n",
       "max               9.989000e+07  9.990000e+07  9.970041e+07  9.970041e+07  ...   \n",
       "\n",
       "       DDD1_BUREAU1  DDD2_BUREAU1  DDD3_BUREAU1  DDD4_BUREAU1  DDD5_BUREAU1  \\\n",
       "count  86187.000000  85588.000000  81899.000000  74403.000000  64012.000000   \n",
       "mean      28.597863     17.305907     13.096363     11.169496     10.372133   \n",
       "std       26.759002     24.319511     22.155049     20.978489     20.424621   \n",
       "min        0.000000      0.000000      0.000000      0.000000      0.000000   \n",
       "25%       11.000000      0.000000      0.000000      0.000000      0.000000   \n",
       "50%       18.000000     11.000000      0.000000      0.000000      0.000000   \n",
       "75%       43.000000     21.000000     16.000000     11.000000     11.000000   \n",
       "max       99.000000     99.000000     99.000000     99.000000     99.000000   \n",
       "\n",
       "       RENDA_BUREAU2  SCORE_CREDITO_BUREAU1  SCORE_CREDITO_BUREAU2  \\\n",
       "count   8.636000e+04           86405.000000           58027.000000   \n",
       "mean    2.513594e+03             595.224698             626.650904   \n",
       "std     1.109697e+04             164.614927             144.007392   \n",
       "min     0.000000e+00               0.000000               0.000000   \n",
       "25%     1.350000e+03             462.000000             520.000000   \n",
       "50%     1.650000e+03             565.000000             623.000000   \n",
       "75%     2.300000e+03             717.000000             730.000000   \n",
       "max     1.500000e+06            1002.000000             999.000000   \n",
       "\n",
       "       SCORE_FRAUDE  FLAG_DESENVOLVIMENTO  \n",
       "count  80417.000000          86558.000000  \n",
       "mean     698.893816              0.700005  \n",
       "std      160.961929              0.458258  \n",
       "min        0.000000              0.000000  \n",
       "25%      580.000000              0.000000  \n",
       "50%      722.000000              1.000000  \n",
       "75%      829.000000              1.000000  \n",
       "max      971.000000              1.000000  \n",
       "\n",
       "[8 rows x 27 columns]"
      ]
     },
     "execution_count": 7,
     "metadata": {},
     "output_type": "execute_result"
    }
   ],
   "source": [
    "bdcartoes.describe()"
   ]
  },
  {
   "cell_type": "code",
   "execution_count": 8,
   "metadata": {},
   "outputs": [
    {
     "data": {
      "text/plain": [
       "FRAUDE\n",
       "0    85998\n",
       "1      560\n",
       "dtype: int64"
      ]
     },
     "execution_count": 8,
     "metadata": {},
     "output_type": "execute_result"
    }
   ],
   "source": [
    "bdcartoes.groupby(['FRAUDE']).size()"
   ]
  },
  {
   "cell_type": "code",
   "execution_count": 14,
   "metadata": {},
   "outputs": [
    {
     "data": {
      "text/plain": [
       "FLAG_DESENVOLVIMENTO\n",
       "0    25967\n",
       "1    60591\n",
       "dtype: int64"
      ]
     },
     "execution_count": 14,
     "metadata": {},
     "output_type": "execute_result"
    }
   ],
   "source": [
    "bdcartoes.groupby(['FLAG_DESENVOLVIMENTO']).size()"
   ]
  },
  {
   "cell_type": "code",
   "execution_count": 18,
   "metadata": {
    "scrolled": true
   },
   "outputs": [
    {
     "data": {
      "text/html": [
       "<div>\n",
       "<style scoped>\n",
       "    .dataframe tbody tr th:only-of-type {\n",
       "        vertical-align: middle;\n",
       "    }\n",
       "\n",
       "    .dataframe tbody tr th {\n",
       "        vertical-align: top;\n",
       "    }\n",
       "\n",
       "    .dataframe thead th {\n",
       "        text-align: right;\n",
       "    }\n",
       "</style>\n",
       "<table border=\"1\" class=\"dataframe\">\n",
       "  <thead>\n",
       "    <tr style=\"text-align: right;\">\n",
       "      <th>FRAUDE</th>\n",
       "      <th>0</th>\n",
       "      <th>1</th>\n",
       "    </tr>\n",
       "    <tr>\n",
       "      <th>FLAG_DESENVOLVIMENTO</th>\n",
       "      <th></th>\n",
       "      <th></th>\n",
       "    </tr>\n",
       "  </thead>\n",
       "  <tbody>\n",
       "    <tr>\n",
       "      <th>0</th>\n",
       "      <td>25791</td>\n",
       "      <td>176</td>\n",
       "    </tr>\n",
       "    <tr>\n",
       "      <th>1</th>\n",
       "      <td>60207</td>\n",
       "      <td>384</td>\n",
       "    </tr>\n",
       "  </tbody>\n",
       "</table>\n",
       "</div>"
      ],
      "text/plain": [
       "FRAUDE                    0    1\n",
       "FLAG_DESENVOLVIMENTO            \n",
       "0                     25791  176\n",
       "1                     60207  384"
      ]
     },
     "execution_count": 18,
     "metadata": {},
     "output_type": "execute_result"
    }
   ],
   "source": [
    "bdcartoes.groupby(['FLAG_DESENVOLVIMENTO', 'FRAUDE'])['FRAUDE'].count().unstack().fillna(0)"
   ]
  },
  {
   "cell_type": "code",
   "execution_count": 28,
   "metadata": {},
   "outputs": [
    {
     "data": {
      "text/html": [
       "<div>\n",
       "<style scoped>\n",
       "    .dataframe tbody tr th:only-of-type {\n",
       "        vertical-align: middle;\n",
       "    }\n",
       "\n",
       "    .dataframe tbody tr th {\n",
       "        vertical-align: top;\n",
       "    }\n",
       "\n",
       "    .dataframe thead th {\n",
       "        text-align: right;\n",
       "    }\n",
       "</style>\n",
       "<table border=\"1\" class=\"dataframe\">\n",
       "  <thead>\n",
       "    <tr style=\"text-align: right;\">\n",
       "      <th></th>\n",
       "      <th>FLAG_DESENVOLVIMENTO</th>\n",
       "      <th>FRAUDE</th>\n",
       "      <th>LIMITE_CREDITO_CARTAO</th>\n",
       "      <th>SCORE_FRAUDE</th>\n",
       "      <th>SCORE_CREDITO_BUREAU1</th>\n",
       "      <th>SCORE_CREDITO_BUREAU2</th>\n",
       "      <th>RENDA_BUREAU2</th>\n",
       "    </tr>\n",
       "  </thead>\n",
       "  <tbody>\n",
       "    <tr>\n",
       "      <th>0</th>\n",
       "      <td>0</td>\n",
       "      <td>0</td>\n",
       "      <td>1050</td>\n",
       "      <td>919.0</td>\n",
       "      <td>470.0</td>\n",
       "      <td>629.0</td>\n",
       "      <td>3550.0</td>\n",
       "    </tr>\n",
       "    <tr>\n",
       "      <th>1</th>\n",
       "      <td>1</td>\n",
       "      <td>0</td>\n",
       "      <td>2700</td>\n",
       "      <td>703.0</td>\n",
       "      <td>815.0</td>\n",
       "      <td>893.0</td>\n",
       "      <td>1800.0</td>\n",
       "    </tr>\n",
       "    <tr>\n",
       "      <th>2</th>\n",
       "      <td>0</td>\n",
       "      <td>0</td>\n",
       "      <td>400</td>\n",
       "      <td>685.0</td>\n",
       "      <td>509.0</td>\n",
       "      <td>349.0</td>\n",
       "      <td>1350.0</td>\n",
       "    </tr>\n",
       "  </tbody>\n",
       "</table>\n",
       "</div>"
      ],
      "text/plain": [
       "   FLAG_DESENVOLVIMENTO  FRAUDE  LIMITE_CREDITO_CARTAO  SCORE_FRAUDE  \\\n",
       "0                     0       0                   1050         919.0   \n",
       "1                     1       0                   2700         703.0   \n",
       "2                     0       0                    400         685.0   \n",
       "\n",
       "   SCORE_CREDITO_BUREAU1  SCORE_CREDITO_BUREAU2  RENDA_BUREAU2  \n",
       "0                  470.0                  629.0         3550.0  \n",
       "1                  815.0                  893.0         1800.0  \n",
       "2                  509.0                  349.0         1350.0  "
      ]
     },
     "execution_count": 28,
     "metadata": {},
     "output_type": "execute_result"
    }
   ],
   "source": [
    "teste = bdcartoes[['FLAG_DESENVOLVIMENTO', 'FRAUDE','LIMITE_CREDITO_CARTAO','SCORE_FRAUDE','SCORE_CREDITO_BUREAU1','SCORE_CREDITO_BUREAU2','RENDA_BUREAU2']]\n",
    "\n",
    "\n"
   ]
  },
  {
   "cell_type": "code",
   "execution_count": 43,
   "metadata": {},
   "outputs": [],
   "source": [
    "\n",
    "    aux1 = teste.drop('FRAUDE', axis = 1)\n",
    "    X = aux.values\n",
    "    aux2 = teste['FRAUDE']\n",
    "    y = aux2.values\n"
   ]
  },
  {
   "cell_type": "code",
   "execution_count": 41,
   "metadata": {},
   "outputs": [
    {
     "data": {
      "text/plain": [
       "86558"
      ]
     },
     "execution_count": 41,
     "metadata": {},
     "output_type": "execute_result"
    }
   ],
   "source": [
    "X.shape[0]"
   ]
  },
  {
   "cell_type": "code",
   "execution_count": 44,
   "metadata": {
    "scrolled": true
   },
   "outputs": [
    {
     "data": {
      "text/plain": [
       "86558"
      ]
     },
     "execution_count": 44,
     "metadata": {},
     "output_type": "execute_result"
    }
   ],
   "source": [
    "y.shape[0]"
   ]
  },
  {
   "cell_type": "code",
   "execution_count": 48,
   "metadata": {
    "scrolled": true
   },
   "outputs": [
    {
     "data": {
      "text/plain": [
       "array([[0.000e+00, 1.050e+03, 9.190e+02, 4.700e+02, 6.290e+02],\n",
       "       [1.000e+00, 2.700e+03, 7.030e+02, 8.150e+02, 8.930e+02],\n",
       "       [0.000e+00, 4.000e+02, 6.850e+02, 5.090e+02, 3.490e+02],\n",
       "       ...,\n",
       "       [1.000e+00, 1.200e+03, 8.780e+02, 8.300e+02, 8.020e+02],\n",
       "       [1.000e+00, 1.175e+03, 4.850e+02, 9.220e+02,       nan],\n",
       "       [1.000e+00, 8.250e+02, 5.900e+02, 4.900e+02,       nan]])"
      ]
     },
     "execution_count": 48,
     "metadata": {},
     "output_type": "execute_result"
    }
   ],
   "source": [
    "X[:,0:5]"
   ]
  },
  {
   "cell_type": "code",
   "execution_count": 51,
   "metadata": {},
   "outputs": [
    {
     "data": {
      "text/plain": [
       "array([0, 0, 0, ..., 0, 0, 0], dtype=int64)"
      ]
     },
     "execution_count": 51,
     "metadata": {},
     "output_type": "execute_result"
    }
   ],
   "source": [
    "y"
   ]
  },
  {
   "cell_type": "code",
   "execution_count": 112,
   "metadata": {},
   "outputs": [],
   "source": [
    "# Vamos tentar uma implementacao mais simples\n",
    "\n",
    "import pandas as pd\n",
    "import xgboost as xgb\n",
    "import numpy as np\n",
    "import sklearn\n",
    "from sklearn.datasets import dump_svmlight_file\n",
    "from sklearn.preprocessing import LabelEncoder\n",
    "\n",
    "\n"
   ]
  },
  {
   "cell_type": "code",
   "execution_count": 121,
   "metadata": {},
   "outputs": [],
   "source": [
    "db_reduzido = bdcartoes[['FLAG_DESENVOLVIMENTO', 'FRAUDE','LIMITE_CREDITO_CARTAO','SCORE_FRAUDE','SCORE_CREDITO_BUREAU1','SCORE_CREDITO_BUREAU2','RENDA_BUREAU2']]\n",
    "\n",
    "# Separa desenvolvimento e validacao\n",
    "db_dsnv = db_reduzido[(db_reduzido['FLAG_DESENVOLVIMENTO'] == 1)]\n",
    "db_vl   = db_reduzido[(db_reduzido['FLAG_DESENVOLVIMENTO'] == 0)]\n",
    "\n",
    "# O desenvolvimento converto em Array\n",
    "aux1 = db_dsnv.drop('FRAUDE', axis = 1)\n",
    "train_X = aux1.values\n",
    "aux2 = db_dsnv['FRAUDE']\n",
    "train_y = aux2.values\n",
    "\n",
    "# A de teste converto em matrix\n",
    "aux3 = db_vl.drop('FRAUDE', axis = 1)\n",
    "test_X = aux3.values\n",
    "aux4 = db_vl.drop('FRAUDE', axis = 1)\n",
    "resp = aux4.values"
   ]
  },
  {
   "cell_type": "code",
   "execution_count": 114,
   "metadata": {},
   "outputs": [],
   "source": [
    "gbm = xgb.XGBClassifier(max_depth=3, n_estimators=300, learning_rate=0.05).fit(train_X, train_y)\n"
   ]
  },
  {
   "cell_type": "code",
   "execution_count": 122,
   "metadata": {
    "scrolled": true
   },
   "outputs": [],
   "source": [
    "predictions = gbm.predict(test_X)"
   ]
  },
  {
   "cell_type": "code",
   "execution_count": 120,
   "metadata": {},
   "outputs": [
    {
     "name": "stdout",
     "output_type": "stream",
     "text": [
      "26\n"
     ]
    }
   ],
   "source": [
    "print(sum(predictions))"
   ]
  },
  {
   "cell_type": "code",
   "execution_count": 124,
   "metadata": {},
   "outputs": [
    {
     "name": "stdout",
     "output_type": "stream",
     "text": [
      "[       0. 31337121.       nan       nan       nan       nan]\n"
     ]
    }
   ],
   "source": [
    "print(sum(resp))"
   ]
  },
  {
   "cell_type": "code",
   "execution_count": null,
   "metadata": {},
   "outputs": [],
   "source": []
  }
 ],
 "metadata": {
  "kernelspec": {
   "display_name": "Python 3",
   "language": "python",
   "name": "python3"
  },
  "language_info": {
   "codemirror_mode": {
    "name": "ipython",
    "version": 3
   },
   "file_extension": ".py",
   "mimetype": "text/x-python",
   "name": "python",
   "nbconvert_exporter": "python",
   "pygments_lexer": "ipython3",
   "version": "3.7.6"
  }
 },
 "nbformat": 4,
 "nbformat_minor": 4
}
