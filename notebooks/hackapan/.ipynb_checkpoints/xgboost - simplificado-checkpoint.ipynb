{
 "cells": [
  {
   "cell_type": "code",
   "execution_count": 1,
   "metadata": {},
   "outputs": [],
   "source": [
    "\n",
    "# Importanto as bases para carga e tratamento de tabelas\n",
    "\n",
    "import numpy as np\n",
    "import pandas as pd\n",
    "import seaborn as sns\n",
    "\n",
    "\n"
   ]
  },
  {
   "cell_type": "code",
   "execution_count": 2,
   "metadata": {},
   "outputs": [],
   "source": [
    "# Importando dados\n",
    "bdatrasos=pd.read_csv(r'C:\\Base - Hackapan\\BASE_ATRASOS_HACKAPAN.txt',sep=\";\",encoding='cp1252')\n",
    "bdtrans=pd.read_csv(r'C:\\Base - Hackapan\\BASE_TRANSACOES_HACKAPAN.txt',sep=\";\",encoding='cp1252')\n",
    "bdcartoes=pd.read_csv(r'C:\\Base - Hackapan\\BASE_CARTOES_HACKAPAN.txt',sep=\";\",encoding='cp1252')\n"
   ]
  },
  {
   "cell_type": "code",
   "execution_count": 8,
   "metadata": {},
   "outputs": [
    {
     "data": {
      "text/html": [
       "<div>\n",
       "<style scoped>\n",
       "    .dataframe tbody tr th:only-of-type {\n",
       "        vertical-align: middle;\n",
       "    }\n",
       "\n",
       "    .dataframe tbody tr th {\n",
       "        vertical-align: top;\n",
       "    }\n",
       "\n",
       "    .dataframe thead th {\n",
       "        text-align: right;\n",
       "    }\n",
       "</style>\n",
       "<table border=\"1\" class=\"dataframe\">\n",
       "  <thead>\n",
       "    <tr style=\"text-align: right;\">\n",
       "      <th>FRAUDE</th>\n",
       "      <th>0</th>\n",
       "      <th>1</th>\n",
       "    </tr>\n",
       "    <tr>\n",
       "      <th>FLAG_DESENVOLVIMENTO</th>\n",
       "      <th></th>\n",
       "      <th></th>\n",
       "    </tr>\n",
       "  </thead>\n",
       "  <tbody>\n",
       "    <tr>\n",
       "      <th>0</th>\n",
       "      <td>25791</td>\n",
       "      <td>176</td>\n",
       "    </tr>\n",
       "    <tr>\n",
       "      <th>1</th>\n",
       "      <td>60207</td>\n",
       "      <td>384</td>\n",
       "    </tr>\n",
       "  </tbody>\n",
       "</table>\n",
       "</div>"
      ],
      "text/plain": [
       "FRAUDE                    0    1\n",
       "FLAG_DESENVOLVIMENTO            \n",
       "0                     25791  176\n",
       "1                     60207  384"
      ]
     },
     "execution_count": 8,
     "metadata": {},
     "output_type": "execute_result"
    }
   ],
   "source": [
    "# Numeros basicos\n",
    "bdcartoes.groupby(['FLAG_DESENVOLVIMENTO', 'FRAUDE'])['FRAUDE'].count().unstack().fillna(0)\n",
    "\n"
   ]
  },
  {
   "cell_type": "code",
   "execution_count": 20,
   "metadata": {},
   "outputs": [],
   "source": [
    "# Importa as bibliotecas minimas para rodar o XGboost\n",
    "\n",
    "import xgboost as xgb\n",
    "import sklearn\n",
    "from sklearn import metrics\n",
    "\n"
   ]
  },
  {
   "cell_type": "code",
   "execution_count": 36,
   "metadata": {},
   "outputs": [],
   "source": [
    "# prepara uma base de teste\n",
    "\n",
    "db_reduzido = bdcartoes[['FLAG_DESENVOLVIMENTO', 'FRAUDE','LIMITE_CREDITO_CARTAO','SCORE_FRAUDE','SCORE_CREDITO_BUREAU1','SCORE_CREDITO_BUREAU2','RENDA_BUREAU2']]\n",
    "\n",
    "# Separa desenvolvimento e validacao\n",
    "db_dsnv = db_reduzido[(db_reduzido['FLAG_DESENVOLVIMENTO'] == 1)]\n",
    "db_vl   = db_reduzido[(db_reduzido['FLAG_DESENVOLVIMENTO'] == 0)]\n",
    "\n",
    "# O desenvolvimento converto em Array\n",
    "aux1 = db_dsnv.drop('FRAUDE', axis = 1)\n",
    "train_X = aux1.values\n",
    "aux2 = db_dsnv['FRAUDE']\n",
    "train_y = aux2.values\n",
    "\n",
    "# A de teste converto em matrix\n",
    "aux3 = db_vl.drop('FRAUDE', axis = 1)\n",
    "test_X = aux3.values\n",
    "aux4 = db_vl['FRAUDE']\n",
    "y_true = aux4.values\n",
    "\n",
    "\n"
   ]
  },
  {
   "cell_type": "code",
   "execution_count": 37,
   "metadata": {},
   "outputs": [],
   "source": [
    "# Treina o modelo\n",
    "gbm = xgb.XGBClassifier(max_depth=3, n_estimators=300, learning_rate=0.05).fit(train_X, train_y)\n"
   ]
  },
  {
   "cell_type": "code",
   "execution_count": 38,
   "metadata": {},
   "outputs": [],
   "source": [
    "# Marca a preditora\n",
    "y_pred = gbm.predict(test_X)\n"
   ]
  },
  {
   "cell_type": "code",
   "execution_count": 44,
   "metadata": {},
   "outputs": [],
   "source": [
    "acuracia = metrics.accuracy_score(y_true, y_pred)\n",
    "confusao = metrics.confusion_matrix(y_true, y_pred)"
   ]
  },
  {
   "cell_type": "code",
   "execution_count": 51,
   "metadata": {},
   "outputs": [
    {
     "name": "stdout",
     "output_type": "stream",
     "text": [
      "Resumo de Eficienia do Modelo\n",
      "\n",
      "Acuracia do Modelo: 0.993684291600878\n",
      "\n",
      "Matrix de Confusao \n",
      "[[25784     7]\n",
      " [  157    19]]\n"
     ]
    }
   ],
   "source": [
    "# Teste do Modelo\n",
    "print('Resumo de Eficienia do Modelo' + '\\n\\n' + \n",
    "      'Acuracia do Modelo: ' + str(acuracia) + '\\n\\n' \n",
    "      'Matrix de Confusao ' + '\\n' +\n",
    "       str(confusao))\n"
   ]
  },
  {
   "cell_type": "code",
   "execution_count": null,
   "metadata": {},
   "outputs": [],
   "source": [
    "\n"
   ]
  },
  {
   "cell_type": "code",
   "execution_count": null,
   "metadata": {},
   "outputs": [],
   "source": []
  },
  {
   "cell_type": "code",
   "execution_count": null,
   "metadata": {},
   "outputs": [],
   "source": []
  }
 ],
 "metadata": {
  "kernelspec": {
   "display_name": "Python 3",
   "language": "python",
   "name": "python3"
  },
  "language_info": {
   "codemirror_mode": {
    "name": "ipython",
    "version": 3
   },
   "file_extension": ".py",
   "mimetype": "text/x-python",
   "name": "python",
   "nbconvert_exporter": "python",
   "pygments_lexer": "ipython3",
   "version": "3.7.3"
  }
 },
 "nbformat": 4,
 "nbformat_minor": 2
}
